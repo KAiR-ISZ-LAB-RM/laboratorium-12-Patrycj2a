{
 "cells": [
  {
   "cell_type": "markdown",
   "metadata": {},
   "source": [
    "# <center>Laboratorium 12<br>Metody Numeryczne</center>    \n"
   ]
  },
  {
   "cell_type": "markdown",
   "metadata": {},
   "source": [
    "Instrukcja:  \n",
    "Na zajęciach należy wykonać poniższe zadania, a następnie sporządzić sprawozdanie zawierające odpowiedzi z komentarzami."
   ]
  },
  {
   "cell_type": "markdown",
   "metadata": {},
   "source": [
    "**Cel zajęć:** Celem zajęć jest zapoznanie się z numerycznymi metodami rozwiązywania równań różniczkowych\n",
    "zwyczajnych. Będziemy rozpatrywać równania różniczkowe postaci\n",
    "$$\\dot{x}(t) = f(x(t), t)$$\n",
    "gdzie:\n",
    "\n",
    "$x(t) \\in \\mathbb{R}^n$,\n",
    "\n",
    "$t \\ge 0$ \n",
    "\n",
    "\n",
    "z warunkiem początkowym $x(0) = x0$\n",
    "\n",
    "Jest to tak zwany problem początkowy (problem Cauchy’ego) dla równań różniczkowych zwyczajnych."
   ]
  },
  {
   "cell_type": "markdown",
   "metadata": {},
   "source": [
    "**Zadanie 1.**  \n",
    "Zaimplementuj metodę *solve_euler* z main.py "
   ]
  },
  {
   "cell_type": "markdown",
   "metadata": {},
   "source": [
    "\n",
    "***Zadanie 2.*** \n",
    "\n",
    "Rozwiąż równanie \n",
    "$\n",
    "\\dot{x}(t)=\\frac{x+t}{x-t}\n",
    "$, \n",
    "\n",
    "$x(0)=1$ (równanie to posiada rozwiązanie dokładne: \n",
    "$x(t)=t+\\sqrt{1+2t^2}$). \n",
    "\n",
    "Narysuj wykres podanego rozwiązania dokładnego oraz uzyskanych rozwiązań numerycznych.\n"
   ]
  },
  {
   "cell_type": "markdown",
   "metadata": {},
   "source": [
    "***Zadanie 3.*** \n",
    "\n",
    "Rozwiąż układ równań różniczkowych: \n",
    "$$\n",
    "\\begin{array}{l}\n",
    "\\dot{x_1}(t)={x_3}(t)\\\\\n",
    "\\dot{x_2}(t)={x_4}(t)\\\\\n",
    "\\dot{x_3}(t)=-\\frac{x_1(t)}{{(x_1(t)^2+x_2(t)^2)}^{\\frac{3}{2}}}\\\\\n",
    "\\dot{x_4}(t)=-\\frac{x_2(t)}{{(x_1(t)^2+x_2(t)^2)}^{\\frac{3}{2}}}\n",
    "\\end{array}\n",
    "$$\n",
    "      \n",
    "z warunkiem początkowym $x(0)=[1,0,0,1]^T$.\n",
    "    \n",
    "Dla takiego warunku początkowego układ ten ma rozwiązanie szczególne \n",
    "$$\n",
    "x(t)=\\left[\\begin{matrix}\n",
    "cos(t)\\\\\n",
    "sin(t)\\\\\n",
    "-sin(t)\\\\\n",
    "cos(t)\n",
    "\\end{matrix}\\right].\n",
    "$$  \n",
    "\n",
    "Narysuj wykres podanego rozwiązania szczegółowego oraz uzyskanych rozwiązań numerycznych."
   ]
  },
  {
   "cell_type": "markdown",
   "metadata": {},
   "source": [
    "***Zadanie 4.*** \n",
    "\n",
    "Rozwiąż układ równań $\\dot{x}(t)=\\mathbf{A}x(t)$, gdzie macierz \n",
    "$\n",
    "\\mathbf{A}$ dana jest wzorem:  \n",
    "$$\n",
    "\\mathbf{A}=\\left[\\begin{matrix}\n",
    "-667 & 333 \\\\\n",
    " 666 & -334\n",
    "\\end{matrix}\\right]\n",
    "$$\n",
    "\n",
    "z warynkiem początkowym $x(0)=[0, 3]^T$\n",
    "\n",
    "Narysuj wykres uzyskanych rozwiązań numerycznych. Jakie jest rozwiązanie dokładne tego równania?"
   ]
  },
  {
   "cell_type": "markdown",
   "metadata": {},
   "source": [
    "***Zadanie 4.*** \n",
    "\n",
    "Orbita Arenstorfa. Jest to przykład z astronomii opisujący zredukowany problem trzech ciał. Rozważa się dwa ciała o masach $\\mu$ i $\\mu'=1-\\mu$, poruszające się w ruchu kołowym na jednej płaszczyźnie oraz ciało o pomijalnej masie poruszające się między nimi w tej samej płaszczyźnie. Dany jest układ równań różniczkowych:\n",
    "$$\n",
    "\\begin{array}{l}\n",
    "\\dot{x_1}(t)={x_2}(t)\\\\\n",
    "\\dot{x_2}(t)={x_1}(t)+2x_4(t)-\\mu'\\frac{x_1+\\mu}{D_1}-\\mu\\frac{x_1-\\mu'}{D_2}\\\\\n",
    "\\dot{x_3}(t)=x_4(t)\\\\\n",
    "\\dot{x_4}(t)=x_3(t)-2x_2(t)-\\mu'\\frac{x_3(t)}{D_1}\n",
    "-\\mu\\frac{x_3(t)}{D_2}\\end{array}.\n",
    "$$\n",
    "\n",
    "gdzie\n",
    "$$\n",
    "\\begin{array}{l}\n",
    "D_1=((x_1(t)+\\mu)^2+{x_3}^2(t))^\\frac{3}{2}\\\\\n",
    "D_2=((x_1(t)-\\mu')^2+{x_3}^2(t))^\\frac{3}{2}\\\\\n",
    "\\mu=0.012277471\\end{array}.\n",
    "$$\n",
    "\n",
    "Zmienne $x_1$ i $x_3$ odpowiadają za współrzędne na płaszczyźnie trzeciego ciała zaś $x_2$ i $x_4$\n",
    "są odpowiednio prędkościami. Warto zwrócić uwagę, że zarówno czas jak i masa zostały\n",
    "w równaniach przeskalowane, i nie mają bezpośredniej interpretacji fizycznej, należy je\n",
    "traktować jako zmienne bezwymiarowe. Dla pewnych warunków początkowych i czasu\n",
    "symulacji\n",
    "$$\n",
    "\\begin{array}{l}\n",
    "x_1(0) = 0.994\\\\\n",
    "x_2(0) = 0\\\\\n",
    "x_3(0) = 0\\\\\n",
    "x_4(0) = − 2.00158510637908252240537862224\\\\\n",
    "T = 17.0652165601579625588917206249.\\end{array}\n",
    "$$\n",
    "dokładne rozwiązanie tych równań jest okresowe ($x(0)=x(T)$).\n",
    "\n",
    "Narysuj wykres uzyskanych rozwiązań numerycznych."
   ]
  },
  {
   "cell_type": "markdown",
   "metadata": {},
   "source": [
    "**Bibliografia**\n",
    "\n",
    "1. J. C. Butcher. Numerical Methods for Ordinary Differential Equations. John Wiley and Sons, Ltd., 2003.\n",
    "2. Z. Fortuna, B. Macukow, and J. Wąsowski. Metody numeryczne. WNT Warszawa, 1982.\n",
    "3. E. Hairer, S.P. Nørsett, and G. Wanner. Solving Ordinary Differential Equations: I Nonstiff problems. Springer, 2 edition, 2000.\n",
    "4. W. Mitkowski. Równania macierzowe i ich zastosowania. Wydawnictwa AGH, Kraków,2 edition, 2007.\n",
    "5. A. Ralston. Wstęp do analizy numerycznej. PWN, Warszawa, 1965.\n",
    "6. L. F. Shampine, I. Gladwell, and S. Thompson. Solving ODEs with MATLAB. Cambridge University Press, 2003.\n",
    "7. Stoer, J., Burlirsch, R., 1980: Wstêp do metod numerycznych, tom 2. PWN Warszawa.\n"
   ]
  },
  {
   "cell_type": "code",
   "execution_count": null,
   "metadata": {},
   "outputs": [],
   "source": []
  }
 ],
 "metadata": {
  "kernelspec": {
   "display_name": "Python 3",
   "language": "python",
   "name": "python3"
  },
  "language_info": {
   "codemirror_mode": {
    "name": "ipython",
    "version": 3
   },
   "file_extension": ".py",
   "mimetype": "text/x-python",
   "name": "python",
   "nbconvert_exporter": "python",
   "pygments_lexer": "ipython3",
   "version": "3.7.6-final"
  }
 },
 "nbformat": 4,
 "nbformat_minor": 2
}
